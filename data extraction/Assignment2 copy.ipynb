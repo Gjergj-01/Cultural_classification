{
 "cells": [
  {
   "cell_type": "markdown",
   "metadata": {},
   "source": [
    "## Classification\n",
    "- **Culturally Exclusive**: 'caponata' -> Italy\n",
    "- **Cultural Representative**: 'pizza' -> Italy\n",
    "- **Cultural Agnostic**: 'bread'"
   ]
  },
  {
   "cell_type": "markdown",
   "metadata": {},
   "source": [
    "#### Exploiting the graph knowledge-based wikidata structure\n",
    "- **Entity**: the item (e.g., \"pizza\")\n",
    "- **P495**: country of origin\n",
    "- **P2596**: culture\n",
    "- **P172**: ethnic group\n",
    "- **P37**: official language\n",
    "- **P407**: langauge of work or name\n",
    "- **P135**: Movement(Art, Literature, philosophy)\n",
    "- **P136**: Genre\n",
    "- **P921**: Main subject\n",
    "- **P547**: Memorialized by\n",
    "- **P793**: Significant event\n",
    "- **P840**: Narrative location\n",
    "- **P17**: Country\n",
    "- **P1843**: Taxon common name\n",
    "- **P1001**: Applies to jurisdiction\n",
    "- **P144**: Based on\n",
    "- **P361**: Part of\n",
    "- **P1705**: Native label\n",
    "- **P2012**: cuisine\n",
    "- **P2541**: Operating area\n",
    "- **P1535**: Used by\n",
    "- **P366**: Use\n",
    "- **P1142**: Political ideology\n",
    "- **P140**: Religion\n",
    "- **P102**: Member of political party\n",
    "- **P1344**: Participant in\n",
    "- **P183**: Endemic to\n",
    "- **P2341**: Indigenous to\n",
    "- **P1532**: Country for sport\n",
    "- **P279**: Subclass of"
   ]
  },
  {
   "cell_type": "code",
   "execution_count": null,
   "metadata": {},
   "outputs": [],
   "source": [
    "import requests\n",
    "import json\n",
    "from wikidata.client import Client\n",
    "import pandas as pd"
   ]
  },
  {
   "cell_type": "code",
   "execution_count": null,
   "metadata": {},
   "outputs": [],
   "source": [
    "url = 'https://query.wikidata.org/sparql'"
   ]
  },
  {
   "cell_type": "markdown",
   "metadata": {},
   "source": [
    "Example of a query for extracting country of origin and culture for `Caponata(Q1034806)`"
   ]
  },
  {
   "cell_type": "code",
   "execution_count": null,
   "metadata": {},
   "outputs": [],
   "source": [
    "query = ''' \n",
    "SELECT ?origin ?culture\n",
    "WHERE {\n",
    "    wd:Q1034806 wdt:P495 ?origin;\n",
    "                wdt:P2596 ?culture.\n",
    "    SERVICE wikibase:label { bd:serviceParam wikibase:language \"[AUTO_LANGUAGE],mul,en\". }\n",
    "}\n",
    "'''"
   ]
  },
  {
   "cell_type": "code",
   "execution_count": null,
   "metadata": {},
   "outputs": [],
   "source": [
    "r = requests.get(url, params = {'format': 'json', 'query': query})\n",
    "data = r.json()"
   ]
  },
  {
   "cell_type": "code",
   "execution_count": null,
   "metadata": {},
   "outputs": [],
   "source": [
    "properties = ['origin', 'culture']\n",
    "query_result = {}\n",
    "for prop in properties:\n",
    "    query_result[prop] = data['results']['bindings'][0][prop]['value']\n",
    "\n",
    "print(query_result)\n",
    "\n",
    "# To transform the result in a json file\n",
    "\n",
    "'''\n",
    "    json_format = json.dumps(query_result)\n",
    "    print(json_format)\n",
    "'''\n",
    "\n",
    "# Extracting the IDs\n",
    "\n",
    "query_result2 = {}\n",
    "for prop in properties:\n",
    "    query_result2[prop] = data['results']['bindings'][0][prop]['value'].strip().split(\"/\")[-1]\n",
    "\n",
    "print(query_result2)"
   ]
  },
  {
   "cell_type": "code",
   "execution_count": null,
   "metadata": {},
   "outputs": [],
   "source": [
    "def print_query_result(data, properties):\n",
    "    query_result = {}\n",
    "    keys = data['results']['bindings'][0].keys()\n",
    "    for prop in properties:\n",
    "        if prop in keys:\n",
    "            query_result[prop] = data['results']['bindings'][0][prop]['value']\n",
    "        else:\n",
    "            query_result[prop] = None\n",
    "\n",
    "    return query_result"
   ]
  },
  {
   "cell_type": "code",
   "execution_count": null,
   "metadata": {},
   "outputs": [],
   "source": [
    "client = Client()\n",
    "\n",
    "labels = {}\n",
    "for prop in properties:\n",
    "    entity_ID = query_result2[prop]\n",
    "    item = client.get(entity_ID, load=True)\n",
    "    labels[prop] = [entity_ID, str(item.label)]\n",
    "\n",
    "print(labels)\n"
   ]
  },
  {
   "cell_type": "markdown",
   "metadata": {},
   "source": [
    "To deal with missing values we must add the `OPTIONAL` keyword"
   ]
  },
  {
   "cell_type": "code",
   "execution_count": null,
   "metadata": {},
   "outputs": [],
   "source": [
    "from SPARQLWrapper import SPARQLWrapper, JSON"
   ]
  },
  {
   "cell_type": "code",
   "execution_count": null,
   "metadata": {},
   "outputs": [],
   "source": [
    "sparql = SPARQLWrapper('https://query.wikidata.org/sparql')"
   ]
  },
  {
   "cell_type": "code",
   "execution_count": null,
   "metadata": {},
   "outputs": [],
   "source": [
    "sparql.setReturnFormat(JSON)"
   ]
  },
  {
   "cell_type": "code",
   "execution_count": null,
   "metadata": {},
   "outputs": [],
   "source": [
    "sparql.setQuery(\n",
    "'''\n",
    "SELECT ?origin ?culture ?ethnic_group ?off_language ?related_trad ?name ?country_use ?cuisine\n",
    "WHERE {\n",
    "    OPTIONAL { wd:Q177 wdt:P495 ?origin. }\n",
    "    OPTIONAL { wd:Q177 wdt:P2596 ?culture. }\n",
    "    OPTIONAL { wd:Q177 wdt:172 ?ethnic_group. }\n",
    "    OPTIONAL { wd:Q177 wdt:37 ?off_language. }\n",
    "    OPTIONAL { wd:Q177 wdt:4950 ?related_trad. }\n",
    "    OPTIONAL { wd:Q177 wdt:407 ?name. }\n",
    "    OPTIONAL { wd:Q177 wdt:17 ?country_use. }\n",
    "    OPTIONAL { wd:Q177 wdt:P2012 ?cuisine. }\n",
    "    SERVICE wikibase:label { bd:serviceParam wikibase:language \"[AUTO_LANGUAGE],mul,en\". }\n",
    "}\n",
    "'''\n",
    ")"
   ]
  },
  {
   "cell_type": "code",
   "execution_count": null,
   "metadata": {},
   "outputs": [],
   "source": [
    "try:\n",
    "    ret = sparql.queryAndConvert()\n",
    "\n",
    "    for r in ret[\"results\"][\"bindings\"]:\n",
    "        print(r)\n",
    "except Exception as e:\n",
    "    print(e)"
   ]
  },
  {
   "cell_type": "code",
   "execution_count": null,
   "metadata": {},
   "outputs": [],
   "source": [
    "# Example query for item Pizza\n",
    "query = '''\n",
    "SELECT ?origin ?culture ?ethnic_group ?off_language ?related_trad ?name ?country_use ?cuisine\n",
    "WHERE {\n",
    "    OPTIONAL { wd:Q177 wdt:P495 ?origin. }\n",
    "    OPTIONAL { wd:Q177 wdt:P2596 ?culture. }\n",
    "    OPTIONAL { wd:Q177 wdt:172 ?ethnic_group. }\n",
    "    OPTIONAL { wd:Q177 wdt:37 ?off_language. }\n",
    "    OPTIONAL { wd:Q177 wdt:4950 ?related_trad. }\n",
    "    OPTIONAL { wd:Q177 wdt:407 ?name. }\n",
    "    OPTIONAL { wd:Q177 wdt:17 ?country_use. }\n",
    "    OPTIONAL { wd:Q177 wdt:P2012 ?cuisine. }\n",
    "    SERVICE wikibase:label { bd:serviceParam wikibase:language \"[AUTO_LANGUAGE],mul,en\". }\n",
    "}\n",
    "'''"
   ]
  },
  {
   "cell_type": "code",
   "execution_count": null,
   "metadata": {},
   "outputs": [],
   "source": [
    "r = requests.get(url, params = {'format': 'json', 'query': query})\n",
    "data = r.json()\n"
   ]
  },
  {
   "cell_type": "code",
   "execution_count": null,
   "metadata": {},
   "outputs": [],
   "source": [
    "print(data['results']['bindings'][0].keys())"
   ]
  },
  {
   "cell_type": "code",
   "execution_count": null,
   "metadata": {},
   "outputs": [],
   "source": [
    "properties = ['origin', 'culture', 'ethnic_group', 'off_language',\n",
    "               'related_trad', 'name', 'country_use', 'cuisine'\n",
    "              ]\n",
    "query_result = print_query_result(data, properties)"
   ]
  },
  {
   "cell_type": "code",
   "execution_count": null,
   "metadata": {},
   "outputs": [],
   "source": [
    "table = pd.DataFrame.from_dict([query_result]) #  ,orient='index')\n",
    "print(table)"
   ]
  }
 ],
 "metadata": {
  "kernelspec": {
   "display_name": "Python 3",
   "language": "python",
   "name": "python3"
  },
  "language_info": {
   "codemirror_mode": {
    "name": "ipython",
    "version": 3
   },
   "file_extension": ".py",
   "mimetype": "text/x-python",
   "name": "python",
   "nbconvert_exporter": "python",
   "pygments_lexer": "ipython3",
   "version": "3.10.12"
  }
 },
 "nbformat": 4,
 "nbformat_minor": 2
}
