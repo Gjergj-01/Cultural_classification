{
 "cells": [
  {
   "cell_type": "code",
   "execution_count": 1,
   "id": "452134dd",
   "metadata": {},
   "outputs": [
    {
     "name": "stderr",
     "output_type": "stream",
     "text": [
      "/Users/alessandrococcia/Desktop/MNLP HW 1/Cultural_classification/.venv/lib/python3.12/site-packages/tqdm/auto.py:21: TqdmWarning: IProgress not found. Please update jupyter and ipywidgets. See https://ipywidgets.readthedocs.io/en/stable/user_install.html\n",
      "  from .autonotebook import tqdm as notebook_tqdm\n"
     ]
    }
   ],
   "source": [
    "import math\n",
    "import numpy as np\n",
    "import math\n",
    "from datasets import load_dataset\n",
    "\n",
    "from sklearn.ensemble import RandomForestClassifier\n",
    "from sklearn.model_selection import train_test_split\n",
    "from sklearn.metrics import accuracy_score, f1_score\n",
    "from sklearn.preprocessing import OneHotEncoder\n",
    "from sklearn.compose import ColumnTransformer\n",
    "from sklearn.impute import SimpleImputer\n",
    "from sklearn.pipeline import Pipeline\n",
    "from sklearn.metrics import confusion_matrix\n",
    "\n",
    "from SPARQLWrapper import SPARQLWrapper, JSON\n",
    "import pandas as pd\n",
    "import re\n",
    "import json\n",
    "import seaborn as sns\n",
    "\n",
    "import matplotlib.pyplot as plt\n",
    "import pandas as pd\n",
    "import os\n",
    "import time\n",
    "import random"
   ]
  },
  {
   "cell_type": "code",
   "execution_count": 3,
   "id": "79f46240",
   "metadata": {},
   "outputs": [],
   "source": [
    "total_silver_languages = pd.DataFrame(pd.read_csv('datasets/wikipedia_links_silver.csv'))['language'].unique().tolist()"
   ]
  },
  {
   "cell_type": "code",
   "execution_count": 4,
   "id": "8286ba56",
   "metadata": {},
   "outputs": [
    {
     "name": "stdout",
     "output_type": "stream",
     "text": [
      "['ar', 'arz', 'cy', 'en', 'fa', 'ml', 'azb', 'cs', 'da', 'de', 'eo', 'es', 'et', 'eu', 'fi', 'fr', 'gl', 'hr', 'hu', 'it', 'ja', 'ko', 'nl', 'no', 'pl', 'pt', 'ru', 'simple', 'sr', 'sv', 'th', 'tl', 'uk', 'ast', 'bg', 'ca', 'he', 'id', 'ka', 'lt', 'ms', 'sk', 'sl', 'tr', 'zh', 'be', 'az', 'bn', 'br', 'el', 'la', 'mn', 'nds', 'oc', 'ro', 'sh', 'sq', 'uz', 'vi', 'als', 'be_x_old', 'bm', 'ceb', 'ckb', 'eml', 'ga', 'hi', 'ht', 'hy', 'is', 'jv', 'kaa', 'kk', 'lij', 'lv', 'mr', 'my', 'pnb', 'sah', 'sco', 'sw', 'szl', 'ta', 'tg', 'tk', 'ur', 'war', 'wuu', 'xmf', 'zh_yue', 'si', 'zh_min_nan', 'af', 'bo', 'fy', 'nn', 'pa', 'io', 'as', 'awa', 'bh', 'diq', 'dty', 'dv', 'gom', 'gu', 'ha', 'kn', 'ks', 'ku', 'lb', 'mai', 'mg', 'ne', 'or', 'ps', 'sat', 'sa', 'tcy', 'te', 'yo', 'am', 'an', 'ce', 'ace', 'bi', 'hif', 'mzn', 'wa', 'mk', 'mt', 'dag', 'dga', 'fat', 'gpe', 'gur', 'kus', 'mos', 'tw', 'ba', 'bs', 'dsb', 'frr', 'gv', 'hsb', 'kab', 'koi', 'kv', 'lld', 'mhr', 'mrj', 'os', 'pcd', 'qu', 'roa_rup', 'species', 'tyv', 'udm', 'vep', 'vls', 'yi', 'ami', 'ang', 'ary', 'ay', 'ban', 'bar', 'bat_smg', 'bcl', 'bew', 'btm', 'bxr', 'cdo', 'chr', 'co', 'cv', 'fo', 'frp', 'gan', 'gcr', 'gd', 'glk', 'gn', 'guw', 'hak', 'haw', 'hyw', 'ia', 'ie', 'ig', 'ilo', 'jam', 'kbp', 'km', 'knc', 'kw', 'ky', 'lad', 'lez', 'lfn', 'li', 'lmo', 'ln', 'lo', 'mad', 'min', 'mi', 'nap', 'new', 'nov', 'nqo', 'ny', 'olo', 'om', 'pam', 'pap', 'pms', 'rm', 'rue', 'rw', 'scn', 'sc', 'sd', 'skr', 'sm', 'stq', 'tly', 'tt', 'tum', 'vo', 'za', 'zea', 'zh_classical', 'alt', 'av', 'bjn', 'gor', 'kbd', 'myv', 'roa_tara', 'syl', 'crh', 'fur', 'lbe', 'mdf', 'nds_nl', 'nv', 'su', 'se', 'kcg', 'nah', 'mwl', 'so', 'ts', 'inh', 'anp', 'fiu_vro', 'fj', 'jbo', 'ug', 'ee', 'shi', 'zgh', 'arc', 'fon', 'tpi', 'ext', 'krc', 'chy', 'iu', 'szy', 'avk', 'ann', 'bpy', 'ff', 'smn', 'sn', 'vec', 'wo', 'zu', 'ksh', 'blk', 'din', 'ki', 'lg', 'mni', 'pi', 'xal', 'pag', 'st', 'rsk', 'iba', 'nso', 'csb', 'bbc', 'guc', 'nrm', 'dtp', 'xh', 'got', 'pdc', 'cbk_zam', 'pnt', 'shn', 'ab', 'cu', 'kl', 'ltg', 'map_bms', 'nia', 'rmy', 'srn', 'ss', 'tet', 'tig', 'ty', 'kge', 'ik', 'rn', 'atj', 'pfl', 'dz', 'bdr', 'tay', 'mnw', 'tdd', 'kg', 'tn', 'bug', 'nr', 'to', 'pcm', 'ady', 'sources', 'trv', 'ch', 'sg', 'gag', 'ti', 'pwn', 've', 'meta', 'foundation', 'media', 'outreach', 'data', 'cho']\n"
     ]
    }
   ],
   "source": [
    "print(total_silver_languages)"
   ]
  }
 ],
 "metadata": {
  "kernelspec": {
   "display_name": ".venv",
   "language": "python",
   "name": "python3"
  },
  "language_info": {
   "codemirror_mode": {
    "name": "ipython",
    "version": 3
   },
   "file_extension": ".py",
   "mimetype": "text/x-python",
   "name": "python",
   "nbconvert_exporter": "python",
   "pygments_lexer": "ipython3",
   "version": "3.12.0"
  }
 },
 "nbformat": 4,
 "nbformat_minor": 5
}
