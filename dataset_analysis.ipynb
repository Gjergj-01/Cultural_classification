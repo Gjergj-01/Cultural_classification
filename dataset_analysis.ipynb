{
 "cells": [
  {
   "cell_type": "code",
   "execution_count": 2,
   "id": "3b34b8c8",
   "metadata": {},
   "outputs": [
    {
     "name": "stderr",
     "output_type": "stream",
     "text": [
      "/Users/alessandrococcia/Desktop/MNLP HW 1/Cultural_classification/.venv/lib/python3.12/site-packages/tqdm/auto.py:21: TqdmWarning: IProgress not found. Please update jupyter and ipywidgets. See https://ipywidgets.readthedocs.io/en/stable/user_install.html\n",
      "  from .autonotebook import tqdm as notebook_tqdm\n"
     ]
    }
   ],
   "source": [
    "import math\n",
    "import numpy as np\n",
    "import math\n",
    "from datasets import load_dataset\n",
    "\n",
    "from sklearn.ensemble import RandomForestClassifier\n",
    "from sklearn.model_selection import train_test_split\n",
    "from sklearn.metrics import accuracy_score, f1_score\n",
    "from sklearn.preprocessing import OneHotEncoder\n",
    "from sklearn.compose import ColumnTransformer\n",
    "from sklearn.impute import SimpleImputer\n",
    "from sklearn.pipeline import Pipeline\n",
    "from sklearn.metrics import confusion_matrix\n",
    "\n",
    "from SPARQLWrapper import SPARQLWrapper, JSON\n",
    "import pandas as pd\n",
    "import re\n",
    "import json\n",
    "import seaborn as sns\n",
    "\n",
    "import matplotlib.pyplot as plt\n",
    "import pandas as pd\n",
    "import os\n",
    "import time\n",
    "import random\n",
    "\n",
    "import ast"
   ]
  },
  {
   "cell_type": "code",
   "execution_count": 3,
   "id": "a9d374f1",
   "metadata": {},
   "outputs": [],
   "source": [
    "silverdataset = pd.DataFrame(pd.read_csv('datasets/silver.csv'))\n",
    "golddataset = pd.DataFrame(pd.read_csv('datasets/gold.csv'))"
   ]
  },
  {
   "cell_type": "code",
   "execution_count": 8,
   "id": "285df070",
   "metadata": {},
   "outputs": [
    {
     "name": "stdout",
     "output_type": "stream",
     "text": [
      "0          1. FC Nürnberg\n",
      "2            A Bug's Life\n",
      "4           Aaron Copland\n",
      "6                   abaya\n",
      "8                  Africa\n",
      "              ...        \n",
      "289            Volkswagen\n",
      "290         Voodoo Church\n",
      "291                waffle\n",
      "296    Würzburg Residence\n",
      "298          Yanka Kupala\n",
      "Name: name, Length: 107, dtype: object\n"
     ]
    }
   ],
   "source": [
    "cultural_representative = golddataset[golddataset[\"label\"] == \"cultural representative\"]\n",
    "cultural_agnostic = golddataset[golddataset[\"label\"] == \"cultural agnostic\"]\n",
    "cultural_exclusive = golddataset[golddataset[\"label\"] == \"cultural exclusive\"]\n",
    "print(cultural_representative[\"name\"])"
   ]
  }
 ],
 "metadata": {
  "kernelspec": {
   "display_name": ".venv",
   "language": "python",
   "name": "python3"
  },
  "language_info": {
   "codemirror_mode": {
    "name": "ipython",
    "version": 3
   },
   "file_extension": ".py",
   "mimetype": "text/x-python",
   "name": "python",
   "nbconvert_exporter": "python",
   "pygments_lexer": "ipython3",
   "version": "3.12.0"
  }
 },
 "nbformat": 4,
 "nbformat_minor": 5
}
