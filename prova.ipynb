{
 "cells": [
  {
   "cell_type": "code",
   "execution_count": 1,
   "metadata": {},
   "outputs": [],
   "source": [
    "from SPARQLWrapper import SPARQLWrapper, JSON\n",
    "import requests\n",
    "import json\n",
    "from wikidata.client import Client\n",
    "import pandas as pd"
   ]
  },
  {
   "cell_type": "code",
   "execution_count": 2,
   "metadata": {},
   "outputs": [],
   "source": [
    "properties = ['origin', 'culture', 'ethnic_group', 'off_language',\n",
    "               'related_trad', 'name', 'country_use', 'cuisine'\n",
    "              ]"
   ]
  },
  {
   "cell_type": "code",
   "execution_count": 3,
   "metadata": {},
   "outputs": [],
   "source": [
    "def get_query_result(data, properties):\n",
    "    query_result = {}\n",
    "    keys = data['results']['bindings'][0].keys()\n",
    "    for prop in properties:\n",
    "        if prop in keys:\n",
    "            query_result[prop] = data['results']['bindings'][0][prop]['value']\n",
    "        else:\n",
    "            query_result[prop] = None\n",
    "\n",
    "    return query_result"
   ]
  },
  {
   "cell_type": "code",
   "execution_count": 4,
   "metadata": {},
   "outputs": [],
   "source": [
    "sparql = SPARQLWrapper('https://query.wikidata.org/sparql')\n",
    "sparql.setReturnFormat(JSON)"
   ]
  },
  {
   "cell_type": "code",
   "execution_count": 5,
   "metadata": {},
   "outputs": [],
   "source": [
    "sparql.setQuery(\n",
    "'''\n",
    "SELECT ?origin ?culture ?ethnic_group ?off_language ?related_trad ?name ?country_use ?cuisine\n",
    "WHERE {\n",
    "    OPTIONAL { wd:Q177 wdt:P495 ?origin. }\n",
    "    OPTIONAL { wd:Q177 wdt:P2596 ?culture. }\n",
    "    OPTIONAL { wd:Q177 wdt:172 ?ethnic_group. }\n",
    "    OPTIONAL { wd:Q177 wdt:37 ?off_language. }\n",
    "    OPTIONAL { wd:Q177 wdt:4950 ?related_trad. }\n",
    "    OPTIONAL { wd:Q177 wdt:407 ?name. }\n",
    "    OPTIONAL { wd:Q177 wdt:17 ?country_use. }\n",
    "    OPTIONAL { wd:Q177 wdt:P2012 ?cuisine. }\n",
    "    SERVICE wikibase:label { bd:serviceParam wikibase:language \"[AUTO_LANGUAGE],mul,en\". }\n",
    "}\n",
    "'''\n",
    ")"
   ]
  },
  {
   "cell_type": "code",
   "execution_count": null,
   "metadata": {},
   "outputs": [],
   "source": [
    "data = ''\n",
    "try:\n",
    "    data = sparql.queryAndConvert()\n",
    "    \n",
    "except Exception as e:\n",
    "    print(e)"
   ]
  },
  {
   "cell_type": "code",
   "execution_count": 11,
   "metadata": {},
   "outputs": [
    {
     "name": "stdout",
     "output_type": "stream",
     "text": [
      "                                                   0\n",
      "origin            http://www.wikidata.org/entity/Q38\n",
      "culture                                         None\n",
      "ethnic_group                                    None\n",
      "off_language                                    None\n",
      "related_trad                                    None\n",
      "name                                            None\n",
      "country_use                                     None\n",
      "cuisine       http://www.wikidata.org/entity/Q192786\n"
     ]
    }
   ],
   "source": [
    "query_result = get_query_result(data, properties)\n",
    "table = table = pd.DataFrame.from_dict(query_result, orient='index')\n",
    "print(table)"
   ]
  }
 ],
 "metadata": {
  "kernelspec": {
   "display_name": ".venv",
   "language": "python",
   "name": "python3"
  },
  "language_info": {
   "codemirror_mode": {
    "name": "ipython",
    "version": 3
   },
   "file_extension": ".py",
   "mimetype": "text/x-python",
   "name": "python",
   "nbconvert_exporter": "python",
   "pygments_lexer": "ipython3",
   "version": "3.12.0"
  }
 },
 "nbformat": 4,
 "nbformat_minor": 2
}
