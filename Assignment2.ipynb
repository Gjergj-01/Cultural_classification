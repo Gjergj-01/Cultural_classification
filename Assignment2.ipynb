{
 "cells": [
  {
   "cell_type": "markdown",
   "metadata": {},
   "source": [
    "## Classification\n",
    "- **Culturally Exclusive**: 'caponata' -> Italy\n",
    "- **Cultural Representative**: 'pizza' -> Italy\n",
    "- **Cultural Agnostic**: 'bread'"
   ]
  },
  {
   "cell_type": "markdown",
   "metadata": {},
   "source": [
    "#### Exploiting the graph knowledge-based wikidata structure\n",
    "- **Entity**: the item (e.g., \"pizza\")\n",
    "- **P495**: country of origin\n",
    "- **P2596**: culture\n",
    "- **P172**: ethnic group\n",
    "- **P37**: official language\n",
    "- **P407**: langauge of work or name\n",
    "- **P135**: Movement(Art, Literature, philosophy)\n",
    "- **P136**: Genre\n",
    "- **P921**: Main subject\n",
    "- **P547**: Memorialized by\n",
    "- **P784**: Significant event\n",
    "- **P840**: Narrative location\n",
    "- **P17**: Country\n",
    "- **P1843**: Taxon common name\n",
    "- **P1001**: Applies to jurisdiction\n",
    "- **P144**: Based on\n",
    "- **P361**: Part of\n",
    "- **P1705**: Native label\n",
    "- **P2012**: cuisine\n",
    "- **P2541**: Operating area\n",
    "- **P1535**: Used by\n",
    "- **P366**: Use\n",
    "- **P1142**: Political ideology\n",
    "- **P140**: Religion\n",
    "- **P102**: Member of political party\n",
    "- **P1344**: Participant in\n",
    "- **P183**: Endemic to\n",
    "- **P2341**: Indigenous to\n",
    "- **P1532**: Country for sport\n",
    "- **P279**: Subclass of\n"
   ]
  },
  {
   "cell_type": "code",
   "execution_count": 1,
   "metadata": {},
   "outputs": [],
   "source": [
    "import requests\n",
    "import json\n",
    "from wikidata.client import Client\n",
    "from SPARQLWrapper import SPARQLWrapper, JSON\n",
    "import pandas as pd\n"
   ]
  },
  {
   "cell_type": "code",
   "execution_count": 24,
   "metadata": {},
   "outputs": [],
   "source": [
    "properties = ['originLabel', 'cultureLabel', 'ethnic_groupLabel', 'off_languageLabel',\n",
    "                'nameLabel', 'movementLabel', 'genreLabel', 'main_subjectLabel',\n",
    "                'memorializedLabel', 'sign_eventLabel', 'narrative_locLabel', 'countryLabel',\n",
    "                'taxonLabel', 'jurisdictionLabel', 'based_onLabel', 'part_ofLabel',\n",
    "                'native_labelLabel', 'cuisineLabel', 'areaLabel', 'used_byLabel',\n",
    "                'useLabel', 'political_ideoLabel', 'religionLabel', 'political_partyLabel', \n",
    "                'participant_inLabel', 'endemicLabel', 'indigenousLabel', \n",
    "                'country_sportLabel', 'subclass_ofLabel'\n",
    "              ]"
   ]
  },
  {
   "cell_type": "code",
   "execution_count": 25,
   "metadata": {},
   "outputs": [],
   "source": [
    "def get_query_result(data, properties):\n",
    "    query_result = {}\n",
    "    keys = data['results']['bindings'][0].keys()\n",
    "    for prop in properties:\n",
    "        if prop in keys:\n",
    "            query_result[prop] = data['results']['bindings'][0][prop]['value']\n",
    "        else:\n",
    "            query_result[prop] = None\n",
    "\n",
    "    return query_result"
   ]
  },
  {
   "cell_type": "code",
   "execution_count": 26,
   "metadata": {},
   "outputs": [],
   "source": [
    "sparql = SPARQLWrapper('https://query.wikidata.org/sparql')\n",
    "sparql.setReturnFormat(JSON)"
   ]
  },
  {
   "cell_type": "markdown",
   "metadata": {},
   "source": [
    "To deal with missing values we must add the `OPTIONAL` keyword"
   ]
  },
  {
   "cell_type": "code",
   "execution_count": 24,
   "metadata": {},
   "outputs": [],
   "source": [
    "sparql.setQuery(\n",
    "'''\n",
    "SELECT ?originLabel ?culture ?ethnic_group \n",
    "?off_language ?related_trad ?name ?country_use ?cuisineLabel\n",
    "WHERE {\n",
    "    OPTIONAL { wd:Q177 wdt:P495 ?origin. }\n",
    "    OPTIONAL { wd:Q177 wdt:P2596 ?culture. }\n",
    "    OPTIONAL { wd:Q177 wdt:172 ?ethnic_group. }\n",
    "    OPTIONAL { wd:Q177 wdt:37 ?off_language. }\n",
    "    OPTIONAL { wd:Q177 wdt:4950 ?related_trad. }\n",
    "    OPTIONAL { wd:Q177 wdt:407 ?name. }\n",
    "    OPTIONAL { wd:Q177 wdt:17 ?country_use. }\n",
    "    OPTIONAL { wd:Q177 wdt:P2012 ?cuisine. }\n",
    "    SERVICE wikibase:label { bd:serviceParam wikibase:language \"[AUTO_LANGUAGE],mul,en\". }\n",
    "}\n",
    "'''\n",
    ")"
   ]
  },
  {
   "cell_type": "code",
   "execution_count": 25,
   "metadata": {},
   "outputs": [],
   "source": [
    "data = ''\n",
    "try:\n",
    "    data = sparql.queryAndConvert()\n",
    "    \n",
    "except Exception as e:\n",
    "    print(e)"
   ]
  },
  {
   "cell_type": "code",
   "execution_count": 28,
   "metadata": {},
   "outputs": [
    {
     "name": "stdout",
     "output_type": "stream",
     "text": [
      "                            0\n",
      "originLabel             Italy\n",
      "culture                  None\n",
      "ethnic_group             None\n",
      "off_language             None\n",
      "related_trad             None\n",
      "name                     None\n",
      "country_use              None\n",
      "cuisineLabel  Italian cuisine\n"
     ]
    }
   ],
   "source": [
    "query_result = get_query_result(data, properties)\n",
    "table = table = pd.DataFrame.from_dict(query_result, orient='index')\n",
    "print(table)"
   ]
  },
  {
   "cell_type": "code",
   "execution_count": 8,
   "metadata": {},
   "outputs": [],
   "source": [
    "from datasets import load_dataset, load_from_disk"
   ]
  },
  {
   "cell_type": "code",
   "execution_count": null,
   "metadata": {},
   "outputs": [],
   "source": [
    "# dataset = load_dataset('sapienzanlp/nlp2025_hw1_cultural_dataset')\n",
    "# dataset.save_to_disk('./training_dataset')"
   ]
  },
  {
   "cell_type": "code",
   "execution_count": 9,
   "metadata": {},
   "outputs": [],
   "source": [
    "dataset = load_from_disk('./datasets')"
   ]
  },
  {
   "cell_type": "code",
   "execution_count": 11,
   "metadata": {},
   "outputs": [
    {
     "name": "stdout",
     "output_type": "stream",
     "text": [
      "6251\n"
     ]
    }
   ],
   "source": [
    "print(len(dataset['train']))"
   ]
  },
  {
   "cell_type": "code",
   "execution_count": 10,
   "metadata": {},
   "outputs": [
    {
     "name": "stdout",
     "output_type": "stream",
     "text": [
      "{'item': 'http://www.wikidata.org/entity/Q104414508', 'name': '100 percent corner', 'description': 'term for city center', 'type': 'concept', 'category': 'geography', 'subcategory': 'city', 'label': 'cultural agnostic'}\n"
     ]
    }
   ],
   "source": [
    "print(dataset['train'][5])"
   ]
  },
  {
   "cell_type": "markdown",
   "metadata": {},
   "source": [
    "In what follows, we are going to extract new information from wikidata. We start from the items in the training dataset and we write a SPARQL query for extracting some useful information regarding them."
   ]
  },
  {
   "cell_type": "code",
   "execution_count": 13,
   "metadata": {},
   "outputs": [
    {
     "data": {
      "text/plain": [
       "'Q32786'"
      ]
     },
     "execution_count": 13,
     "metadata": {},
     "output_type": "execute_result"
    }
   ],
   "source": [
    "dataset['train'][0]['item'].strip().split('/')[-1]"
   ]
  },
  {
   "cell_type": "code",
   "execution_count": 15,
   "metadata": {},
   "outputs": [],
   "source": [
    "# First we extract the items' IDs\n",
    "rows = len(dataset['train'])\n",
    "IDs = []\n",
    "for index in range(rows):\n",
    "    item_id = dataset['train'][index]['item'].strip().split('/')[-1]\n",
    "    IDs.append(item_id)"
   ]
  },
  {
   "cell_type": "code",
   "execution_count": 17,
   "metadata": {},
   "outputs": [
    {
     "name": "stdout",
     "output_type": "stream",
     "text": [
      "['Q32786', 'Q371', 'Q3729947', 'Q158611', 'Q280375', 'Q104414508']\n"
     ]
    }
   ],
   "source": [
    "print(IDs[:6])"
   ]
  },
  {
   "cell_type": "code",
   "execution_count": null,
   "metadata": {},
   "outputs": [],
   "source": [
    "sparql.setQuery(\n",
    "    '''\n",
    "        SELECT ?originLabel ?cultureLabel ?ethnic_groupLabel ?off_languageLabel\n",
    "                ?nameLabel ?movementLabel ?genreLabel ?main_subjectLabel\n",
    "                ?memorializedLabel ?sign_eventLabel ?narrative_locLabel ?countryLabel\n",
    "                ?taxonLabel ?jurisdictionLabel ?based_onLabel ?part_ofLabel\n",
    "                ?native_labelLabel ?cuisineLabel ?areaLabel ?used_byLabel\n",
    "                ?useLabel ?political_ideoLabel ?religionLabel ?political_partyLabel \n",
    "                ?participant_inLabel ?endemicLabel ?indigenousLabel \n",
    "                ?country_sportLabel ?subclass_ofLabel\n",
    "        WHERE {\n",
    "            OPTIONAL { wd:Q177 wdt:P495 ?origin .}\n",
    "            OPTIONAL { wd:Q177 wdt:P2596 ?culture .}\n",
    "            OPTIONAL { wd:Q177 wdt:P172 ?ethnic_group .}\n",
    "            OPTIONAL { wd:Q177 wdt:P37 ?off_language .}\n",
    "            OPTIONAL { wd:Q177 wdt:P407 ?name .}\n",
    "            OPTIONAL { wd:Q177 wdt:P135 ?movement .}\n",
    "            OPTIONAL { wd:Q177 wdt:P136 ?genre .}\n",
    "            OPTIONAL { wd:Q177 wdt:P921 ?main_subject .}\n",
    "            OPTIONAL { wd:Q177 wdt:P547 ?memorialized .}\n",
    "            OPTIONAL { wd:Q177 wdt:P793 ?sign_event .}\n",
    "            OPTIONAL { wd:Q177 wdt:P840 ?narrative_loc .}\n",
    "            OPTIONAL { wd:Q177 wdt:P17 ?country .}\n",
    "            OPTIONAL { wd:Q177 wdt:P1843 ?taxon .}\n",
    "            OPTIONAL { wd:Q177 wdt:P1001 ?jurisdiction .}\n",
    "            OPTIONAL { wd:Q177 wdt:P144 ?based_on .}\n",
    "            OPTIONAL { wd:Q177 wdt:P361 ?part_of .}\n",
    "            OPTIONAL { wd:Q177 wdt:P1705 ?native_label .}\n",
    "            OPTIONAL { wd:Q177 wdt:P2012 ?cuisine .}\n",
    "            OPTIONAL { wd:Q177 wdt:P2541 ?area .}\n",
    "            OPTIONAL { wd:Q177 wdt:P1535 ?used_by .}\n",
    "            OPTIONAL { wd:Q177 wdt:P366 ?use .}\n",
    "            OPTIONAL { wd:Q177 wdt:P1142 ?political_ideo .}\n",
    "            OPTIONAL { wd:Q177 wdt:P140 ?religion .}\n",
    "            OPTIONAL { wd:Q177 wdt:P102 ?political_party .}\n",
    "            OPTIONAL { wd:Q177 wdt:P1344 ?participant_in .}\n",
    "            OPTIONAL { wd:Q177 wdt:P183 ?endemic .}\n",
    "            OPTIONAL { wd:Q177 wdt:P2341 ?indigenous .}\n",
    "            OPTIONAL { wd:Q177 wdt:P1532 ?country_sport .}\n",
    "            OPTIONAL { wd:Q177 wdt:P279 ?subclass_of .}      \n",
    "\n",
    "            SERVICE wikibase:label { bd:serviceParam wikibase:language \"[AUTO_LANGUAGE],mul,en\". }\n",
    "\n",
    "        }\n",
    "\n",
    "        LIMIT 1\n",
    "    '''\n",
    ")"
   ]
  },
  {
   "cell_type": "code",
   "execution_count": 31,
   "metadata": {},
   "outputs": [],
   "source": [
    "def retrieve_info(items):\n",
    "    i = 0\n",
    "    for item in items:\n",
    "        sparql.setQuery(\n",
    "            f'''\n",
    "            SELECT ?originLabel ?cultureLabel ?ethnic_groupLabel ?off_languageLabel\n",
    "                    ?nameLabel ?movementLabel ?genreLabel ?main_subjectLabel\n",
    "                    ?memorializedLabel ?sign_eventLabel ?narrative_locLabel ?countryLabel\n",
    "                    ?taxonLabel ?jurisdictionLabel ?based_onLabel ?part_ofLabel\n",
    "                    ?native_labelLabel ?cuisineLabel ?areaLabel ?used_byLabel\n",
    "                    ?useLabel ?political_ideoLabel ?religionLabel ?political_partyLabel \n",
    "                    ?participant_inLabel ?endemicLabel ?indigenousLabel \n",
    "                    ?country_sportLabel ?subclass_ofLabel\n",
    "            WHERE {{\n",
    "                OPTIONAL {{ wd:{item} wdt:P495 ?origin .}}  \n",
    "                OPTIONAL {{ wd:{item} wdt:P2596 ?culture .}}\n",
    "                OPTIONAL {{ wd:{item} wdt:P172 ?ethnic_group .}}\n",
    "                OPTIONAL {{ wd:{item} wdt:P37 ?off_language .}}\n",
    "                OPTIONAL {{ wd:{item} wdt:P407 ?name .}}\n",
    "                OPTIONAL {{ wd:{item} wdt:P135 ?movement .}}\n",
    "                OPTIONAL {{ wd:{item} wdt:P136 ?genre .}}\n",
    "                OPTIONAL {{ wd:{item} wdt:P921 ?main_subject .}}\n",
    "                OPTIONAL {{ wd:{item} wdt:P547 ?memorialized .}}\n",
    "                OPTIONAL {{ wd:{item} wdt:P793 ?sign_event .}}\n",
    "                OPTIONAL {{ wd:{item} wdt:P840 ?narrative_loc .}}\n",
    "                OPTIONAL {{ wd:{item} wdt:P17 ?country .}}\n",
    "                OPTIONAL {{ wd:{item} wdt:P1843 ?taxon .}}\n",
    "                OPTIONAL {{ wd:{item} wdt:P1001 ?jurisdiction .}}\n",
    "                OPTIONAL {{ wd:{item} wdt:P144 ?based_on .}}\n",
    "                OPTIONAL {{ wd:{item} wdt:P361 ?part_of .}}\n",
    "                OPTIONAL {{ wd:{item} wdt:P1705 ?native_label .}}\n",
    "                OPTIONAL {{ wd:{item} wdt:P2012 ?cuisine .}}\n",
    "                OPTIONAL {{ wd:{item} wdt:P2541 ?area .}}\n",
    "                OPTIONAL {{ wd:{item} wdt:P1535 ?used_by .}}\n",
    "                OPTIONAL {{ wd:{item} wdt:P366 ?use .}}\n",
    "                OPTIONAL {{ wd:{item} wdt:P1142 ?political_ideo .}}\n",
    "                OPTIONAL {{ wd:{item} wdt:P140 ?religion .}}\n",
    "                OPTIONAL {{ wd:{item} wdt:P102 ?political_party .}}\n",
    "                OPTIONAL {{ wd:{item} wdt:P1344 ?participant_in .}}\n",
    "                OPTIONAL {{ wd:{item} wdt:P183 ?endemic .}}\n",
    "                OPTIONAL {{ wd:{item} wdt:P2341 ?indigenous .}}\n",
    "                OPTIONAL {{ wd:{item} wdt:P1532 ?country_sport .}}\n",
    "                OPTIONAL {{ wd:{item} wdt:P279 ?subclass_of .}}        \n",
    "\n",
    "                SERVICE wikibase:label {{ bd:serviceParam wikibase:language \"[AUTO_LANGUAGE],mul,en\". }}\n",
    "\n",
    "            }}\n",
    "\n",
    "            LIMIT 1\n",
    "        '''\n",
    "        )\n",
    "\n",
    "        data = ''\n",
    "        try:\n",
    "            data = sparql.queryAndConvert()\n",
    "            \n",
    "        except Exception as e:\n",
    "            print(e)\n",
    "\n",
    "        query_result = get_query_result(data, properties)\n",
    "        table = table = pd.DataFrame.from_dict(query_result, orient='index')\n",
    "        print(table)\n",
    "        i += 1\n",
    "        if i == 5:\n",
    "            break\n",
    "        \n",
    "    "
   ]
  },
  {
   "cell_type": "code",
   "execution_count": 32,
   "metadata": {},
   "outputs": [
    {
     "name": "stdout",
     "output_type": "stream",
     "text": [
      "                               0\n",
      "originLabel                India\n",
      "cultureLabel                None\n",
      "ethnic_groupLabel           None\n",
      "off_languageLabel           None\n",
      "nameLabel                   None\n",
      "movementLabel               None\n",
      "genreLabel            drama film\n",
      "main_subjectLabel           None\n",
      "memorializedLabel           None\n",
      "sign_eventLabel             None\n",
      "narrative_locLabel          None\n",
      "countryLabel                None\n",
      "taxonLabel                  None\n",
      "jurisdictionLabel           None\n",
      "based_onLabel               None\n",
      "part_ofLabel                None\n",
      "native_labelLabel           None\n",
      "cuisineLabel                None\n",
      "areaLabel                   None\n",
      "used_byLabel                None\n",
      "useLabel                    None\n",
      "political_ideoLabel         None\n",
      "religionLabel               None\n",
      "political_partyLabel        None\n",
      "participant_inLabel         None\n",
      "endemicLabel                None\n",
      "indigenousLabel             None\n",
      "country_sportLabel          None\n",
      "subclass_ofLabel            None\n",
      "                                  0\n",
      "originLabel           United States\n",
      "cultureLabel                   None\n",
      "ethnic_groupLabel              None\n",
      "off_languageLabel              None\n",
      "nameLabel                      None\n",
      "movementLabel                  None\n",
      "genreLabel               indie rock\n",
      "main_subjectLabel              None\n",
      "memorializedLabel              None\n",
      "sign_eventLabel                None\n",
      "narrative_locLabel             None\n",
      "countryLabel                   None\n",
      "taxonLabel                     None\n",
      "jurisdictionLabel              None\n",
      "based_onLabel                  None\n",
      "part_ofLabel                   None\n",
      "native_labelLabel              None\n",
      "cuisineLabel                   None\n",
      "areaLabel                      None\n",
      "used_byLabel                   None\n",
      "useLabel                       None\n",
      "political_ideoLabel            None\n",
      "religionLabel                  None\n",
      "political_partyLabel           None\n",
      "participant_inLabel            None\n",
      "endemicLabel                   None\n",
      "indigenousLabel                None\n",
      "country_sportLabel             None\n",
      "subclass_ofLabel               None\n",
      "                                    0\n",
      "originLabel                     Spain\n",
      "cultureLabel                     None\n",
      "ethnic_groupLabel                None\n",
      "off_languageLabel                None\n",
      "nameLabel                     Spanish\n",
      "movementLabel                    None\n",
      "genreLabel            humorous comics\n",
      "main_subjectLabel                None\n",
      "memorializedLabel                None\n",
      "sign_eventLabel                  None\n",
      "narrative_locLabel               None\n",
      "countryLabel                     None\n",
      "taxonLabel                       None\n",
      "jurisdictionLabel                None\n",
      "based_onLabel                    None\n",
      "part_ofLabel                     None\n",
      "native_labelLabel                None\n",
      "cuisineLabel                     None\n",
      "areaLabel                        None\n",
      "used_byLabel                     None\n",
      "useLabel                         None\n",
      "political_ideoLabel              None\n",
      "religionLabel                    None\n",
      "political_partyLabel             None\n",
      "participant_inLabel              None\n",
      "endemicLabel                     None\n",
      "indigenousLabel                  None\n",
      "country_sportLabel               None\n",
      "subclass_ofLabel                 None\n",
      "                                     0\n",
      "originLabel              United States\n",
      "cultureLabel                      None\n",
      "ethnic_groupLabel                 None\n",
      "off_languageLabel                 None\n",
      "nameLabel                         None\n",
      "movementLabel                     None\n",
      "genreLabel            alternative rock\n",
      "main_subjectLabel                 None\n",
      "memorializedLabel                 None\n",
      "sign_eventLabel                   None\n",
      "narrative_locLabel                None\n",
      "countryLabel                      None\n",
      "taxonLabel                        None\n",
      "jurisdictionLabel                 None\n",
      "based_onLabel                     None\n",
      "part_ofLabel                      None\n",
      "native_labelLabel                 None\n",
      "cuisineLabel                      None\n",
      "areaLabel                         None\n",
      "used_byLabel                      None\n",
      "useLabel                          None\n",
      "political_ideoLabel               None\n",
      "religionLabel                     None\n",
      "political_partyLabel              None\n",
      "participant_inLabel               None\n",
      "endemicLabel                      None\n",
      "indigenousLabel                   None\n",
      "country_sportLabel                None\n",
      "subclass_ofLabel                  None\n",
      "                                   0\n",
      "originLabel                     None\n",
      "cultureLabel                    None\n",
      "ethnic_groupLabel               None\n",
      "off_languageLabel               None\n",
      "nameLabel                       None\n",
      "movementLabel                   None\n",
      "genreLabel                      None\n",
      "main_subjectLabel               None\n",
      "memorializedLabel               None\n",
      "sign_eventLabel                 None\n",
      "narrative_locLabel              None\n",
      "countryLabel          United Kingdom\n",
      "taxonLabel                      None\n",
      "jurisdictionLabel               None\n",
      "based_onLabel                   None\n",
      "part_ofLabel                    None\n",
      "native_labelLabel               None\n",
      "cuisineLabel                    None\n",
      "areaLabel                       None\n",
      "used_byLabel                    None\n",
      "useLabel                        None\n",
      "political_ideoLabel             None\n",
      "religionLabel                   None\n",
      "political_partyLabel            None\n",
      "participant_inLabel             None\n",
      "endemicLabel                    None\n",
      "indigenousLabel                 None\n",
      "country_sportLabel              None\n",
      "subclass_ofLabel                None\n"
     ]
    }
   ],
   "source": [
    "retrieve_info(IDs)"
   ]
  }
 ],
 "metadata": {
  "kernelspec": {
   "display_name": "Python 3",
   "language": "python",
   "name": "python3"
  },
  "language_info": {
   "codemirror_mode": {
    "name": "ipython",
    "version": 3
   },
   "file_extension": ".py",
   "mimetype": "text/x-python",
   "name": "python",
   "nbconvert_exporter": "python",
   "pygments_lexer": "ipython3",
   "version": "3.10.12"
  }
 },
 "nbformat": 4,
 "nbformat_minor": 2
}
