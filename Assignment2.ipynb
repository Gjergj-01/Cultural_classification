{
 "cells": [
  {
   "cell_type": "markdown",
   "metadata": {},
   "source": [
    "## Classification\n",
    "- **Culturally Exclusive**: 'caponata' -> Italy\n",
    "- **Cultural Representative**: 'pizza' -> Italy\n",
    "- **Cultural Agnostic**: 'bread'"
   ]
  },
  {
   "cell_type": "markdown",
   "metadata": {},
   "source": [
    "#### Exploiting the graph knowledge-based wikidata structure\n",
    "- **Entity**: the item (e.g., \"pizza\")\n",
    "- **P495**: country of origin\n",
    "- **P2596**: culture\n",
    "- **P172**: ethnic group\n",
    "- **P37**: official language"
   ]
  },
  {
   "cell_type": "code",
   "execution_count": null,
   "metadata": {},
   "outputs": [],
   "source": [
    "import requests\n",
    "import json"
   ]
  },
  {
   "cell_type": "code",
   "execution_count": 2,
   "metadata": {},
   "outputs": [],
   "source": [
    "url = 'https://query.wikidata.org/sparql'"
   ]
  },
  {
   "cell_type": "markdown",
   "metadata": {},
   "source": [
    "Example of a query for extracting country of origin and culture for `Caponata(Q1034806)`"
   ]
  },
  {
   "cell_type": "code",
   "execution_count": 3,
   "metadata": {},
   "outputs": [],
   "source": [
    "query = ''' \n",
    "SELECT ?origin ?culture\n",
    "WHERE {\n",
    "    wd:Q1034806 wdt:P495 ?origin;\n",
    "                wdt:P2596 ?culture.\n",
    "    SERVICE wikibase:label { bd:serviceParam wikibase:language \"[AUTO_LANGUAGE],mul,en\". }\n",
    "}\n",
    "'''"
   ]
  },
  {
   "cell_type": "code",
   "execution_count": null,
   "metadata": {},
   "outputs": [],
   "source": [
    "r = requests.get(url, params = {'format': 'json', 'query': query})\n",
    "data = r.json()"
   ]
  },
  {
   "cell_type": "code",
   "execution_count": null,
   "metadata": {},
   "outputs": [
    {
     "name": "stdout",
     "output_type": "stream",
     "text": [
      "{'origin': 'http://www.wikidata.org/entity/Q38', 'culture': 'http://www.wikidata.org/entity/Q1460'}\n",
      "{'origin': 'Q38', 'culture': 'Q1460'}\n"
     ]
    }
   ],
   "source": [
    "properties = ['origin', 'culture']\n",
    "query_result = {}\n",
    "for prop in properties:\n",
    "    query_result[prop] = data['results']['bindings'][0][prop]['value']\n",
    "\n",
    "print(query_result)\n",
    "\n",
    "# To transform the result in a json file\n",
    "\n",
    "'''\n",
    "    json_format = json.dumps(query_result)\n",
    "    print(json_format)\n",
    "'''\n",
    "\n",
    "# Extracting the IDs\n",
    "\n",
    "query_result2 = {}\n",
    "for prop in properties:\n",
    "    query_result2[prop] = data['results']['bindings'][0][prop]['value'].strip().split(\"/\")[-1]\n",
    "\n",
    "print(query_result2)"
   ]
  }
 ],
 "metadata": {
  "kernelspec": {
   "display_name": "Python 3",
   "language": "python",
   "name": "python3"
  },
  "language_info": {
   "codemirror_mode": {
    "name": "ipython",
    "version": 3
   },
   "file_extension": ".py",
   "mimetype": "text/x-python",
   "name": "python",
   "nbconvert_exporter": "python",
   "pygments_lexer": "ipython3",
   "version": "3.10.12"
  }
 },
 "nbformat": 4,
 "nbformat_minor": 2
}
