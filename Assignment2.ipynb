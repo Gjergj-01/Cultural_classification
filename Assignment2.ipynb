{
 "cells": [
  {
   "cell_type": "markdown",
   "metadata": {},
   "source": [
    "## Classification\n",
    "- **Culturally Exclusive**: 'caponata' -> Italy\n",
    "- **Cultural Representative**: 'pizza' -> Italy\n",
    "- **Cultural Agnostic**: 'bread'"
   ]
  },
  {
   "cell_type": "markdown",
   "metadata": {},
   "source": [
    "#### Exploiting the graph knowledge-based wikidata structure\n",
    "- **Entity**: the item (e.g., \"pizza\")\n",
    "- **P495**: country of origin\n",
    "- **P2596**: culture\n",
    "- **P172**: ethnic group\n",
    "- **P37**: official language\n",
    "- **P407**: langauge of work or name\n",
    "- **P135**: Movement(Art, Literature, philosophy)\n",
    "- **P136**: Genre\n",
    "- **P921**: Main subject\n",
    "- **P547**: Memorialized by\n",
    "- **P784**: Significant event\n",
    "- **P840**: Narrative location\n",
    "- **P17**: Country\n",
    "- **P1843**: Taxon common name\n",
    "- **P1001**: Applies to jurisdiction\n",
    "- **P144**: Based on\n",
    "- **P361**: Part of\n",
    "- **P1705**: Native label\n",
    "- **P2012**: cuisine\n",
    "- **P2541**: Operating area\n",
    "- **P1535**: Used by\n",
    "- **P366**: Use\n",
    "- **P1142**: Political ideology\n",
    "- **P140**: Religion\n",
    "- **P102**: Member of political party\n",
    "- **P1344**: Participant in\n",
    "- **P183**: Endemic to\n",
    "- **P2341**: Indigenous to\n",
    "- **P1532**: Country for sport\n",
    "- **P279**: Subclass of\n"
   ]
  },
  {
   "cell_type": "code",
   "execution_count": 1,
   "metadata": {},
   "outputs": [],
   "source": [
    "# import requests\n",
    "# import json\n",
    "# from wikidata.client import Client\n",
    "from SPARQLWrapper import SPARQLWrapper, JSON\n",
    "import pandas as pd\n",
    "import time\n",
    "from datasets import load_dataset, load_from_disk\n"
   ]
  },
  {
   "cell_type": "code",
   "execution_count": 2,
   "metadata": {},
   "outputs": [],
   "source": [
    "properties = ['originLabel', 'cultureLabel', 'ethnic_groupLabel', 'off_languageLabel',\n",
    "                'nameLabel', 'movementLabel', 'genreLabel', 'main_subjectLabel',\n",
    "                'memorializedLabel', 'sign_eventLabel', 'narrative_locLabel', 'countryLabel',\n",
    "                'taxonLabel', 'jurisdictionLabel', 'based_onLabel', 'part_ofLabel',\n",
    "                'native_labelLabel', 'cuisineLabel', 'areaLabel', 'used_byLabel',\n",
    "                'useLabel', 'political_ideoLabel', 'religionLabel', 'political_partyLabel', \n",
    "                'participant_inLabel', 'endemicLabel', 'indigenousLabel', \n",
    "                'country_sportLabel', 'subclass_ofLabel'\n",
    "              ]"
   ]
  },
  {
   "cell_type": "code",
   "execution_count": 3,
   "metadata": {},
   "outputs": [],
   "source": [
    "def get_query_result(data, properties):\n",
    "    query_result = {}\n",
    "    keys = data['results']['bindings'][0].keys()\n",
    "    for prop in properties:\n",
    "        if prop in keys:\n",
    "            query_result[prop] = data['results']['bindings'][0][prop]['value']\n",
    "        else:\n",
    "            query_result[prop] = None\n",
    "\n",
    "    return query_result"
   ]
  },
  {
   "cell_type": "code",
   "execution_count": 4,
   "metadata": {},
   "outputs": [],
   "source": [
    "sparql = SPARQLWrapper('https://query.wikidata.org/sparql', agent='GjWikidataBot/1.0')\n",
    "sparql.setReturnFormat(JSON)"
   ]
  },
  {
   "cell_type": "code",
   "execution_count": null,
   "metadata": {},
   "outputs": [],
   "source": [
    "# dataset = load_dataset('sapienzanlp/nlp2025_hw1_cultural_dataset')\n",
    "# dataset.save_to_disk('./training_dataset')"
   ]
  },
  {
   "cell_type": "code",
   "execution_count": 5,
   "metadata": {},
   "outputs": [],
   "source": [
    "dataset = load_from_disk('./datasets')"
   ]
  },
  {
   "cell_type": "markdown",
   "metadata": {},
   "source": [
    "In what follows, we are going to extract new information from wikidata. We start from the items in the training dataset and we write a SPARQL query for extracting some useful information regarding them."
   ]
  },
  {
   "cell_type": "code",
   "execution_count": 7,
   "metadata": {},
   "outputs": [],
   "source": [
    "# First we extract the items' IDs\n",
    "rows = len(dataset['train'])\n",
    "IDs = []\n",
    "for index in range(rows):\n",
    "    item_id = dataset['train'][index]['item'].strip().split('/')[-1]\n",
    "    IDs.append(item_id)"
   ]
  },
  {
   "cell_type": "code",
   "execution_count": null,
   "metadata": {},
   "outputs": [
    {
     "name": "stdout",
     "output_type": "stream",
     "text": [
      "0       http://www.wikidata.org/entity/Q15786\n",
      "1      http://www.wikidata.org/entity/Q268530\n",
      "2      http://www.wikidata.org/entity/Q216153\n",
      "3         http://www.wikidata.org/entity/Q593\n",
      "4      http://www.wikidata.org/entity/Q192185\n",
      "                        ...                  \n",
      "295     http://www.wikidata.org/entity/Q36180\n",
      "296    http://www.wikidata.org/entity/Q156316\n",
      "297     http://www.wikidata.org/entity/Q56911\n",
      "298       http://www.wikidata.org/entity/Q377\n",
      "299    http://www.wikidata.org/entity/Q615394\n",
      "Name: item, Length: 300, dtype: object\n"
     ]
    }
   ],
   "source": [
    "gold_IDs = []\n",
    "gold_df = pd.read_csv('gold.csv')\n",
    "for url in gold_df['item']:\n",
    "    item_id = url.strip().split('/')[-1]\n",
    "    gold_IDs.append(item_id)"
   ]
  },
  {
   "cell_type": "code",
   "execution_count": null,
   "metadata": {},
   "outputs": [],
   "source": [
    "def retrieve_info(items):\n",
    "    i = 1                # to handle sleeping time\n",
    "    dict_training = {}   # dictionary storing query results\n",
    "    num_items = len(items)\n",
    "    k = 0\n",
    "    while k < num_items:\n",
    "        item = items[k]\n",
    "        sparql.setQuery(\n",
    "            f'''\n",
    "            SELECT ?originLabel ?cultureLabel ?ethnic_groupLabel ?off_languageLabel\n",
    "                    ?nameLabel ?movementLabel ?genreLabel ?main_subjectLabel\n",
    "                    ?memorializedLabel ?sign_eventLabel ?narrative_locLabel ?countryLabel\n",
    "                    ?taxonLabel ?jurisdictionLabel ?based_onLabel ?part_ofLabel\n",
    "                    ?native_labelLabel ?cuisineLabel ?areaLabel ?used_byLabel\n",
    "                    ?useLabel ?political_ideoLabel ?religionLabel ?political_partyLabel \n",
    "                    ?participant_inLabel ?endemicLabel ?indigenousLabel \n",
    "                    ?country_sportLabel ?subclass_ofLabel\n",
    "            WHERE {{\n",
    "                OPTIONAL {{ wd:{item} wdt:P495 ?origin .}}  \n",
    "                OPTIONAL {{ wd:{item} wdt:P2596 ?culture .}}\n",
    "                OPTIONAL {{ wd:{item} wdt:P172 ?ethnic_group .}}\n",
    "                OPTIONAL {{ wd:{item} wdt:P37 ?off_language .}}\n",
    "                OPTIONAL {{ wd:{item} wdt:P407 ?name .}}\n",
    "                OPTIONAL {{ wd:{item} wdt:P135 ?movement .}}\n",
    "                OPTIONAL {{ wd:{item} wdt:P136 ?genre .}}\n",
    "                OPTIONAL {{ wd:{item} wdt:P921 ?main_subject .}}\n",
    "                OPTIONAL {{ wd:{item} wdt:P547 ?memorialized .}}\n",
    "                OPTIONAL {{ wd:{item} wdt:P793 ?sign_event .}}\n",
    "                OPTIONAL {{ wd:{item} wdt:P840 ?narrative_loc .}}\n",
    "                OPTIONAL {{ wd:{item} wdt:P17 ?country .}}\n",
    "                OPTIONAL {{ wd:{item} wdt:P1843 ?taxon .}}\n",
    "                OPTIONAL {{ wd:{item} wdt:P1001 ?jurisdiction .}}\n",
    "                OPTIONAL {{ wd:{item} wdt:P144 ?based_on .}}\n",
    "                OPTIONAL {{ wd:{item} wdt:P361 ?part_of .}}\n",
    "                OPTIONAL {{ wd:{item} wdt:P1705 ?native_label .}}\n",
    "                OPTIONAL {{ wd:{item} wdt:P2012 ?cuisine .}}\n",
    "                OPTIONAL {{ wd:{item} wdt:P2541 ?area .}}\n",
    "                OPTIONAL {{ wd:{item} wdt:P1535 ?used_by .}}\n",
    "                OPTIONAL {{ wd:{item} wdt:P366 ?use .}}\n",
    "                OPTIONAL {{ wd:{item} wdt:P1142 ?political_ideo .}}\n",
    "                OPTIONAL {{ wd:{item} wdt:P140 ?religion .}}\n",
    "                OPTIONAL {{ wd:{item} wdt:P102 ?political_party .}}\n",
    "                OPTIONAL {{ wd:{item} wdt:P1344 ?participant_in .}}\n",
    "                OPTIONAL {{ wd:{item} wdt:P183 ?endemic .}}\n",
    "                OPTIONAL {{ wd:{item} wdt:P2341 ?indigenous .}}\n",
    "                OPTIONAL {{ wd:{item} wdt:P1532 ?country_sport .}}\n",
    "                OPTIONAL {{ wd:{item} wdt:P279 ?subclass_of .}}        \n",
    "\n",
    "                SERVICE wikibase:label {{ bd:serviceParam wikibase:language \"[AUTO_LANGUAGE],mul,en\". }}\n",
    "\n",
    "            }}\n",
    "\n",
    "            LIMIT 1\n",
    "        '''\n",
    "        )\n",
    "\n",
    "        data = ''\n",
    "        try:\n",
    "            data = sparql.queryAndConvert()\n",
    "            query_result = get_query_result(data, properties)\n",
    "            dict_training[k] = query_result\n",
    "            k += 1\n",
    "\n",
    "        except Exception as e:\n",
    "            time.sleep(10 * i)\n",
    "            i += 1\n",
    "            continue\n",
    "            \n",
    "    \n",
    "    return dict_training\n",
    "        \n",
    "        \n",
    "    "
   ]
  },
  {
   "cell_type": "code",
   "execution_count": null,
   "metadata": {},
   "outputs": [],
   "source": [
    "dict_training = retrieve_info(IDs)"
   ]
  },
  {
   "cell_type": "code",
   "execution_count": 27,
   "metadata": {},
   "outputs": [],
   "source": [
    "pd_table = pd.DataFrame.from_dict(dict_training, orient='index')"
   ]
  },
  {
   "cell_type": "code",
   "execution_count": 36,
   "metadata": {},
   "outputs": [],
   "source": [
    "pd_table.to_csv('values.csv', index=True, na_rep='None')"
   ]
  }
 ],
 "metadata": {
  "kernelspec": {
   "display_name": "Python 3",
   "language": "python",
   "name": "python3"
  },
  "language_info": {
   "codemirror_mode": {
    "name": "ipython",
    "version": 3
   },
   "file_extension": ".py",
   "mimetype": "text/x-python",
   "name": "python",
   "nbconvert_exporter": "python",
   "pygments_lexer": "ipython3",
   "version": "3.10.12"
  }
 },
 "nbformat": 4,
 "nbformat_minor": 2
}
